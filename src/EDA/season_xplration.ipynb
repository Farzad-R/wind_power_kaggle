{
 "cells": [
  {
   "cell_type": "code",
   "execution_count": 1,
   "metadata": {},
   "outputs": [],
   "source": [
    "import sys\n",
    "import os\n",
    "import pandas as pd\n",
    "import numpy as np\n",
    "from pyprojroot import here\n",
    "\n",
    "sys.path.insert(0, os.path.join(here()))\n",
    "\n",
    "from src.utils.EDAUtils import WpEDS\n",
    "\n",
    "import warnings\n",
    "warnings.filterwarnings('ignore')\n",
    "\n",
    "## plotting libraries and setting\n",
    "import matplotlib.pyplot as plt\n",
    "import seaborn as sns\n",
    "sns.set(rc = {'figure.figsize':(24, 12)})\n",
    "# small_size = 8\n",
    "# medium_szie = 10\n",
    "big_size = 18\n",
    "plt.rc('font', size=big_size)          # controls default text sizes\n",
    "plt.rc('axes', titlesize=big_size)     # fontsize of the axes title\n",
    "plt.rc('axes', labelsize=big_size)    # fontsize of the x and y labels\n",
    "plt.rc('xtick', labelsize=big_size)    # fontsize of the tick labels\n",
    "plt.rc('ytick', labelsize=big_size)    # fontsize of the tick labels\n",
    "plt.rc('legend', fontsize=big_size)    # legend fontsize\n",
    "plt.rc('figure', titlesize=big_size)  # fontsize of the figure title"
   ]
  },
  {
   "cell_type": "code",
   "execution_count": 3,
   "metadata": {},
   "outputs": [],
   "source": [
    "def extract_seasons_from_df(df):\n",
    "    \"\"\"Argument: a dataframe with a timestamp index\"\"\"\n",
    "    tmp_list = []\n",
    "    for year in df.index.year.unique():\n",
    "        year = str(year)\n",
    "        seasons = {\n",
    "            \"spring\": pd.date_range(\n",
    "                start=\"20/03/\" + year, end=\"21/06/\" + year, freq=\"h\"\n",
    "            ),\n",
    "            \"summer\": pd.date_range(\n",
    "                start=\"21/06/\" + year, end=\"22/09/\" + year, freq=\"h\"\n",
    "            ),\n",
    "            \"autumn\": pd.date_range(\n",
    "                start=\"22/09/\" + year, end=\"20/12/\" + year, freq=\"h\"\n",
    "            ),\n",
    "        }\n",
    "        tmp_list.append(seasons)\n",
    "        df.loc[df.index.isin(seasons[\"spring\"]), \"season\"] = \"spring\"\n",
    "        df.loc[df.index.isin(seasons[\"summer\"]), \"season\"] = \"summer\"\n",
    "        df.loc[df.index.isin(seasons[\"autumn\"]), \"season\"] = \"autumn\"\n",
    "\n",
    "    df[\"season\"] = df[\"season\"].fillna(\"winter\")"
   ]
  },
  {
   "cell_type": "code",
   "execution_count": 2,
   "metadata": {},
   "outputs": [
    {
     "name": "stdout",
     "output_type": "stream",
     "text": [
      "train: (18757, 7)\n",
      "test: (7488, 1)\n",
      "wf1: (104832, 5)\n"
     ]
    }
   ],
   "source": [
    "df_train = pd.read_parquet(here(\"data/transformed/train/train.parquet\"))\n",
    "print(\"train:\", df_train.shape)\n",
    "\n",
    "df_test = pd.read_parquet(here(\"data/transformed/test/test.parquet\"))\n",
    "print(\"test:\", df_test.shape)\n",
    "\n",
    "df_wf1 = pd.read_parquet(here(\"data/transformed/windforecasts/windforecasts_wf1.parquet\"))\n",
    "print(\"wf1:\",df_wf1.shape)"
   ]
  },
  {
   "cell_type": "code",
   "execution_count": 4,
   "metadata": {},
   "outputs": [],
   "source": [
    "extract_seasons_from_df(df_train)"
   ]
  },
  {
   "cell_type": "code",
   "execution_count": 7,
   "metadata": {},
   "outputs": [],
   "source": [
    "df_train_summer = df_train[df_train[\"season\"] == \"summer\"]\n",
    "df_train_winter = df_train[df_train[\"season\"] == \"winter\"]\n",
    "df_train_spring = df_train[df_train[\"season\"] == \"spring\"]\n",
    "df_train_autumn = df_train[df_train[\"season\"] == \"autumn\"]"
   ]
  },
  {
   "cell_type": "markdown",
   "metadata": {},
   "source": [
    "#### checking the seasonal info"
   ]
  },
  {
   "cell_type": "code",
   "execution_count": 8,
   "metadata": {},
   "outputs": [
    {
     "name": "stdout",
     "output_type": "stream",
     "text": [
      "num summer samples: (5245, 8)\n",
      "num winter samples: (4174, 8)\n",
      "num spring samples: (4140, 8)\n",
      "num autumn samples: (5198, 8)\n"
     ]
    }
   ],
   "source": [
    "print(\"num summer samples:\", df_train_summer.shape)\n",
    "print(\"num winter samples:\", df_train_winter.shape)\n",
    "print(\"num spring samples:\", df_train_spring.shape)\n",
    "print(\"num autumn samples:\", df_train_autumn.shape)"
   ]
  },
  {
   "cell_type": "code",
   "execution_count": 11,
   "metadata": {},
   "outputs": [
    {
     "name": "stdout",
     "output_type": "stream",
     "text": [
      "Total MW summer:\n",
      " wp1                                                 928.917\n",
      "wp2                                                 983.232\n",
      "wp3                                                 981.987\n",
      "wp4                                                 952.957\n",
      "wp5                                                 927.971\n",
      "wp6                                                 908.011\n",
      "wp7                                                 840.462\n",
      "season    summersummersummersummersummersummersummersumm...\n",
      "dtype: object\n",
      "Total MW winter:\n",
      " wp1                                                1220.523\n",
      "wp2                                                1190.138\n",
      "wp3                                                1757.074\n",
      "wp4                                                1485.074\n",
      "wp5                                                 1289.72\n",
      "wp6                                                1520.347\n",
      "wp7                                                1489.308\n",
      "season    winterwinterwinterwinterwinterwinterwinterwint...\n",
      "dtype: object\n",
      "Total MW spring:\n",
      " wp1                                                 1078.59\n",
      "wp2                                                 1077.53\n",
      "wp3                                                1496.888\n",
      "wp4                                                1060.681\n",
      "wp5                                                1128.236\n",
      "wp6                                                 1119.67\n",
      "wp7                                                1106.094\n",
      "season    springspringspringspringspringspringspringspri...\n",
      "dtype: object\n",
      "Total MW autumn:\n",
      " wp1                                                1506.005\n",
      "wp2                                                1738.135\n",
      "wp3                                                2039.603\n",
      "wp4                                                1869.026\n",
      "wp5                                                1766.935\n",
      "wp6                                                1830.985\n",
      "wp7                                                 2013.83\n",
      "season    autumnautumnautumnautumnautumnautumnautumnautu...\n",
      "dtype: object\n"
     ]
    }
   ],
   "source": [
    "print(\"Total MW summer:\\n\", df_train_summer.sum())\n",
    "print(\"Total MW winter:\\n\", df_train_winter.sum())\n",
    "print(\"Total MW spring:\\n\", df_train_spring.sum())\n",
    "print(\"Total MW autumn:\\n\", df_train_autumn.sum())"
   ]
  },
  {
   "cell_type": "code",
   "execution_count": null,
   "metadata": {},
   "outputs": [],
   "source": []
  }
 ],
 "metadata": {
  "interpreter": {
   "hash": "3bf70bf889e08bc7c36e297590c9992b538be88db668fdcc73344a63d44c9b0f"
  },
  "kernelspec": {
   "display_name": "Python 3.9.12 ('tool_env')",
   "language": "python",
   "name": "python3"
  },
  "language_info": {
   "codemirror_mode": {
    "name": "ipython",
    "version": 3
   },
   "file_extension": ".py",
   "mimetype": "text/x-python",
   "name": "python",
   "nbconvert_exporter": "python",
   "pygments_lexer": "ipython3",
   "version": "3.9.12"
  },
  "orig_nbformat": 4
 },
 "nbformat": 4,
 "nbformat_minor": 2
}
